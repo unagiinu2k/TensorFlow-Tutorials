{
 "cells": [
  {
   "cell_type": "markdown",
   "metadata": {},
   "source": [
    "# M5のおさらい"
   ]
  },
  {
   "cell_type": "markdown",
   "metadata": {},
   "source": [
    "- M5ではtreeの形成は普通のdecision treeと同じように行う（？）\n",
    "    - これは作りたいモデルとはたぶん異なる。\n",
    "    "
   ]
  },
  {
   "cell_type": "markdown",
   "metadata": {},
   "source": [
    "# M5PP"
   ]
  },
  {
   "cell_type": "markdown",
   "metadata": {},
   "source": [
    "- ふたつに分割するアルゴリズムを作る\n",
    "    - これをrecursiveに適用すればcascading treeになるはず\n",
    "- 分割にあたっては線形モデルのエラーを最小化するようにする\n",
    "- ただし、ifelse型のスイッチは最適化困難なので、sigmoidかtanhを用いる。\n",
    "- 以下のようなmodelを小さい$a$でまずtrainし、徐々に$a$を大きくしていくのがいいだろうか？\n",
    "　　$$\\left[\\tanh\\left(a(x+b)\\right) -1\\right]\\times\\text{回帰式}$$\n",
    "  \n",
    "- regime switch用のファクターごとにモデルを作って比較するのが安直ではあるが、もっとスマートな方法はあるか\n",
    "    - ものすごくきついL1正則項を入れればいい気がする"
   ]
  },
  {
   "cell_type": "code",
   "execution_count": 1,
   "metadata": {},
   "outputs": [
    {
     "name": "stderr",
     "output_type": "stream",
     "text": [
      "C:\\Users\\t\\Anaconda3\\envs\\python35\\lib\\site-packages\\h5py\\__init__.py:34: FutureWarning: Conversion of the second argument of issubdtype from `float` to `np.floating` is deprecated. In future, it will be treated as `np.float64 == np.dtype(float).type`.\n",
      "  from ._conv import register_converters as _register_converters\n"
     ]
    }
   ],
   "source": [
    "import tensorflow as tf\n",
    "import numpy as np"
   ]
  },
  {
   "cell_type": "markdown",
   "metadata": {},
   "source": [
    "## random data の生成"
   ]
  },
  {
   "cell_type": "code",
   "execution_count": 2,
   "metadata": {
    "collapsed": true
   },
   "outputs": [],
   "source": [
    "Nsample = 10000"
   ]
  },
  {
   "cell_type": "code",
   "execution_count": 3,
   "metadata": {
    "collapsed": true
   },
   "outputs": [],
   "source": [
    "Nfactor = 10"
   ]
  },
  {
   "cell_type": "code",
   "execution_count": 4,
   "metadata": {
    "collapsed": true
   },
   "outputs": [],
   "source": [
    "trX = np.random.randn(Nsample , Nfactor)"
   ]
  },
  {
   "cell_type": "code",
   "execution_count": 5,
   "metadata": {
    "collapsed": true
   },
   "outputs": [],
   "source": [
    "Nregime  = 2"
   ]
  },
  {
   "cell_type": "code",
   "execution_count": 6,
   "metadata": {
    "collapsed": true
   },
   "outputs": [],
   "source": [
    "A = np.random.randn(Nfactor , Nregime)"
   ]
  },
  {
   "cell_type": "code",
   "execution_count": 7,
   "metadata": {
    "collapsed": true
   },
   "outputs": [],
   "source": [
    "trZ = np.dot(trX , A)"
   ]
  },
  {
   "cell_type": "code",
   "execution_count": 8,
   "metadata": {
    "collapsed": true
   },
   "outputs": [],
   "source": [
    "Nregime_factor = 5"
   ]
  },
  {
   "cell_type": "code",
   "execution_count": 9,
   "metadata": {
    "collapsed": true
   },
   "outputs": [],
   "source": [
    "trX2 = np.random.randn(Nsample, Nregime_factor)"
   ]
  },
  {
   "cell_type": "code",
   "execution_count": 10,
   "metadata": {
    "collapsed": true
   },
   "outputs": [],
   "source": [
    "A2 = np.random.randn(Nregime_factor , 1)"
   ]
  },
  {
   "cell_type": "code",
   "execution_count": 11,
   "metadata": {
    "collapsed": true
   },
   "outputs": [],
   "source": [
    "trZ2 = np.dot(trX2 , A2)"
   ]
  },
  {
   "cell_type": "markdown",
   "metadata": {},
   "source": [
    "M5やM5Pに倣い、regime switcherとしては、候補とするファクターひとつのみが含まれる不等式をカスケード式に用いることを想定\n",
    "\n",
    "従って\n"
   ]
  },
  {
   "cell_type": "code",
   "execution_count": 12,
   "metadata": {
    "collapsed": true
   },
   "outputs": [],
   "source": [
    "trY = np.array([z[0]  if  trZ2[i , 0] > 0 else z[1] for i , z in enumerate(trZ)])"
   ]
  },
  {
   "cell_type": "code",
   "execution_count": 13,
   "metadata": {
    "collapsed": true
   },
   "outputs": [],
   "source": [
    "ybias = np.mean(trY)"
   ]
  },
  {
   "cell_type": "code",
   "execution_count": 14,
   "metadata": {
    "collapsed": true
   },
   "outputs": [],
   "source": [
    "yscaler = np.std(trY)"
   ]
  },
  {
   "cell_type": "markdown",
   "metadata": {},
   "source": [
    "## 標準化しない場合"
   ]
  },
  {
   "cell_type": "code",
   "execution_count": 44,
   "metadata": {
    "collapsed": true
   },
   "outputs": [],
   "source": [
    "trY = trY2"
   ]
  },
  {
   "cell_type": "markdown",
   "metadata": {},
   "source": [
    "## 標準化する場合"
   ]
  },
  {
   "cell_type": "code",
   "execution_count": 15,
   "metadata": {
    "collapsed": true
   },
   "outputs": [],
   "source": [
    "trY2 = (trY - ybias ) / yscaler"
   ]
  },
  {
   "cell_type": "code",
   "execution_count": null,
   "metadata": {
    "collapsed": true
   },
   "outputs": [],
   "source": [
    "np.mean(trY2)"
   ]
  },
  {
   "cell_type": "code",
   "execution_count": null,
   "metadata": {
    "collapsed": true
   },
   "outputs": [],
   "source": [
    "np.std(trY2)"
   ]
  },
  {
   "cell_type": "markdown",
   "metadata": {},
   "source": [
    "## modelの定義"
   ]
  },
  {
   "cell_type": "code",
   "execution_count": 45,
   "metadata": {
    "collapsed": true
   },
   "outputs": [],
   "source": [
    "def model(X, X2 , w1a , w1b, w2 , tanh_scaler): # this network is the same as the previous one except with an extra hidden layer + dropout\n",
    "    z1a = tf.matmul(X , w1a)\n",
    "    z1b = tf.matmul(X , w1b)\n",
    "    z2 = tf.matmul(X2 , w2)\n",
    "    h = tf.nn.tanh(tf.multiply(z2 , tanh_scaler))\n",
    "    my_one = tf.constant(dtype=\"float\" , value = 1 )\n",
    "    weight1a = tf.subtract(my_one , h) \n",
    "    weight1b = tf.subtract(h , my_one)\n",
    "    elementwise_mul1a = tf.multiply(weight1a , z1a)\n",
    "    elementwise_mul1b = tf.multiply(weight1b , z1b)\n",
    "\n",
    "\n",
    "    return elementwise_mul1a + elementwise_mul1b"
   ]
  },
  {
   "cell_type": "code",
   "execution_count": 46,
   "metadata": {
    "collapsed": true
   },
   "outputs": [],
   "source": [
    "tanh_scaler = tf.Variable(0.1 , dtype=\"float\")"
   ]
  },
  {
   "cell_type": "code",
   "execution_count": 47,
   "metadata": {
    "collapsed": true
   },
   "outputs": [],
   "source": [
    "X = tf.placeholder(\"float\", [None, Nfactor])\n",
    "X2 = tf.placeholder(\"float\", [None, Nregime_factor])"
   ]
  },
  {
   "cell_type": "code",
   "execution_count": 48,
   "metadata": {
    "collapsed": true
   },
   "outputs": [],
   "source": [
    "Y2 = tf.placeholder(\"float\")"
   ]
  },
  {
   "cell_type": "code",
   "execution_count": 49,
   "metadata": {
    "collapsed": true
   },
   "outputs": [],
   "source": [
    "w1a = tf.Variable(tf.random_normal(shape=[Nfactor , 1] , stddev=0.1))"
   ]
  },
  {
   "cell_type": "code",
   "execution_count": 50,
   "metadata": {
    "collapsed": true
   },
   "outputs": [],
   "source": [
    "w1b = tf.Variable(tf.random_normal(shape=[Nfactor , 1] , stddev=0.1))"
   ]
  },
  {
   "cell_type": "code",
   "execution_count": 51,
   "metadata": {
    "collapsed": true
   },
   "outputs": [],
   "source": [
    "w2 = tf.Variable(tf.random_normal(shape=[Nregime_factor , 1] , stddev=0.1))"
   ]
  },
  {
   "cell_type": "code",
   "execution_count": 52,
   "metadata": {
    "collapsed": true
   },
   "outputs": [],
   "source": [
    "y_model = model(X , X2 , w1a , w1b , w2 , tanh_scaler)"
   ]
  },
  {
   "cell_type": "markdown",
   "metadata": {},
   "source": [
    "以下の3つは同等？："
   ]
  },
  {
   "cell_type": "code",
   "execution_count": 53,
   "metadata": {
    "collapsed": true
   },
   "outputs": [],
   "source": [
    "cost = tf.reduce_mean(tf.square(Y2 - y_model))"
   ]
  },
  {
   "cell_type": "code",
   "execution_count": null,
   "metadata": {
    "collapsed": true
   },
   "outputs": [],
   "source": [
    "cost = tf.losses.mean_squared_error(labels=Y2 , predictions=y_model)"
   ]
  },
  {
   "cell_type": "code",
   "execution_count": null,
   "metadata": {
    "collapsed": true
   },
   "outputs": [],
   "source": [
    "cost = tf.reduce_mean(tf.squared_difference(y_model, Y2))"
   ]
  },
  {
   "cell_type": "code",
   "execution_count": 54,
   "metadata": {
    "collapsed": true
   },
   "outputs": [],
   "source": [
    "train_op = tf.train.GradientDescentOptimizer(0.05).minimize(cost) # construct an optimizer to minimize cost and fit line to my data"
   ]
  },
  {
   "cell_type": "markdown",
   "metadata": {},
   "source": [
    "sandbox check用："
   ]
  },
  {
   "cell_type": "markdown",
   "metadata": {},
   "source": [
    "## run"
   ]
  },
  {
   "cell_type": "code",
   "execution_count": 55,
   "metadata": {
    "collapsed": true
   },
   "outputs": [],
   "source": [
    "sess = tf.Session()\n",
    "\n",
    "sess.run(tf.global_variables_initializer())"
   ]
  },
  {
   "cell_type": "markdown",
   "metadata": {},
   "source": [
    "### batchを切った場合"
   ]
  },
  {
   "cell_type": "code",
   "execution_count": 56,
   "metadata": {
    "collapsed": true
   },
   "outputs": [],
   "source": [
    "batch_size = 100\n",
    "n_epoch = 50"
   ]
  },
  {
   "cell_type": "code",
   "execution_count": 41,
   "metadata": {
    "collapsed": true
   },
   "outputs": [],
   "source": [
    "Nsample = trX.shape[0]"
   ]
  },
  {
   "cell_type": "code",
   "execution_count": 42,
   "metadata": {},
   "outputs": [
    {
     "name": "stdout",
     "output_type": "stream",
     "text": [
      "0.940922\n",
      "0.9409213\n",
      "0.9409211\n",
      "0.9409211\n",
      "0.94092095\n",
      "0.9409208\n",
      "0.9409198\n",
      "0.94092023\n",
      "0.94092023\n",
      "0.9409195\n",
      "0.9409196\n",
      "0.94091773\n",
      "0.94091666\n",
      "0.9409162\n",
      "0.94091445\n",
      "0.9409155\n",
      "0.9409142\n",
      "0.940915\n",
      "0.9409151\n",
      "0.94091576\n",
      "0.9409151\n",
      "0.94091433\n",
      "0.9409139\n",
      "0.94091266\n",
      "0.9409107\n",
      "0.94090897\n",
      "0.9409083\n",
      "0.9409081\n",
      "0.9409064\n",
      "0.94090813\n",
      "0.9409069\n",
      "0.9409048\n",
      "0.9409044\n",
      "0.94090307\n",
      "0.9409029\n",
      "0.94090194\n",
      "0.9409003\n",
      "0.9409003\n",
      "0.94089895\n",
      "0.94089776\n",
      "0.9408961\n",
      "0.9408954\n",
      "0.9408936\n",
      "0.94089246\n",
      "0.94089186\n",
      "0.9408898\n",
      "0.94088846\n",
      "0.9408875\n",
      "0.94088614\n",
      "0.94088626\n"
     ]
    }
   ],
   "source": [
    "for i in range(n_epoch):\n",
    "    for z in zip(range(0 , Nsample , batch_size) , range(batch_size , Nsample + 1 , batch_size)):\n",
    "        sess.run(train_op , feed_dict={X:trX[z[0]:z[1]] , X2:trX2[z[0]:z[1]] , Y2 : trY2[z[0]:z[1]]})\n",
    "        #print(z)\n",
    "    run_cost = sess.run(cost , feed_dict={X:trX , X2:trX2 , Y2 : trY2})\n",
    "    print(run_cost)\n",
    "    \n",
    "    #sess.run(train_operation , feed_dict={X:trX[z[0]:z[1]] , Y : trY[z[0]:z[1]]})\n",
    "    #predicted_decoded_teY = sess.run(tf.argmax(py_x, 1) , feed_dict = {X : teX})\n",
    "    #run_precision = np.mean(decoded_teY == predicted_decoded_teY)\n",
    "    #print(i , run_precision)"
   ]
  },
  {
   "cell_type": "markdown",
   "metadata": {},
   "source": [
    "tanh_scaler(が十分にちいさくなければ？)の微妙な変化はcostに影響を与えないだろう・・\n"
   ]
  },
  {
   "cell_type": "markdown",
   "metadata": {},
   "source": [
    "### 一度に全部のtraining setを使った場合"
   ]
  },
  {
   "cell_type": "code",
   "execution_count": null,
   "metadata": {},
   "outputs": [
    {
     "name": "stdout",
     "output_type": "stream",
     "text": [
      "9.999689\n",
      "9.999545\n",
      "9.999478\n",
      "9.999448\n",
      "9.9994335\n",
      "9.999427\n",
      "9.999424\n",
      "9.999423\n",
      "9.999422\n",
      "9.999422\n",
      "9.999422\n",
      "9.999422\n",
      "9.999422\n",
      "9.999422\n",
      "9.999422\n",
      "9.999422\n",
      "9.999422\n",
      "9.999422\n",
      "9.999422\n",
      "9.999422\n",
      "9.999422\n",
      "9.999422\n",
      "9.999422\n",
      "9.999422\n",
      "9.999422\n",
      "9.999422\n",
      "9.999422\n",
      "9.999422\n",
      "9.999422\n",
      "9.999422\n",
      "9.999422\n",
      "9.999422\n",
      "9.999422\n",
      "9.999422\n",
      "9.999422\n",
      "9.999422\n",
      "9.999422\n",
      "9.999422\n",
      "9.999422\n",
      "9.999422\n",
      "9.999422\n",
      "9.999422\n",
      "9.999422\n",
      "9.999422\n",
      "9.999422\n",
      "9.999422\n",
      "9.999422\n",
      "9.999422\n",
      "9.999422\n",
      "9.999422\n",
      "9.999422\n",
      "9.999422\n",
      "9.999422\n",
      "9.999422\n"
     ]
    }
   ],
   "source": [
    "for i in range(100):\n",
    "    sess.run(train_op , feed_dict={X:trX , X2:trX2 , Y2 : trY2})\n",
    "    #print(sess.run(w1a)[0,0])\n",
    "    print(sess.run(tanh_scaler))\n",
    "    #print(sess.run(cost , feed_dict={X:trX , X2:trX2 , Y2 : trY2}))"
   ]
  },
  {
   "cell_type": "code",
   "execution_count": null,
   "metadata": {
    "collapsed": true
   },
   "outputs": [],
   "source": [
    "sess.run(w1b)"
   ]
  },
  {
   "cell_type": "markdown",
   "metadata": {},
   "source": [
    "# sandbox"
   ]
  },
  {
   "cell_type": "code",
   "execution_count": null,
   "metadata": {
    "collapsed": true
   },
   "outputs": [],
   "source": [
    "sess.run(tanh_scaler)"
   ]
  },
  {
   "cell_type": "code",
   "execution_count": null,
   "metadata": {
    "collapsed": true
   },
   "outputs": [],
   "source": [
    "def model(X, X2 , w1a , w1b, w2): # this network is the same as the previous one except with an extra hidden layer + dropout\n",
    "    z1a = tf.matmul(X , w1a)\n",
    "    z1b = tf.matmul(X , w1b)\n",
    "    z2 = tf.matmul(X2 , w2)\n",
    "    h = tf.nn.tanh(z2)\n",
    "    my_one = tf.constant(dtype=\"float\" , value = 1 )\n",
    "    weight1a = my_one \n",
    "    #weight1b = tf.subtract(h , my_one)\n",
    "    elementwise_mul1a = tf.multiply(weight1a , z1a)\n",
    "    #elementwise_mul1b = tf.multiply(weight1b , z1b)\n",
    "\n",
    "\n",
    "    return elementwise_mul1a# + elementwise_mul1b"
   ]
  },
  {
   "cell_type": "code",
   "execution_count": null,
   "metadata": {
    "collapsed": true
   },
   "outputs": [],
   "source": [
    "sess.run(w1a)"
   ]
  },
  {
   "cell_type": "code",
   "execution_count": null,
   "metadata": {
    "collapsed": true
   },
   "outputs": [],
   "source": [
    "sess.run(w1a)"
   ]
  },
  {
   "cell_type": "code",
   "execution_count": null,
   "metadata": {
    "collapsed": true,
    "scrolled": true
   },
   "outputs": [],
   "source": [
    "y = sess.run(py , feed_dict={X:trX , X2:trX2})"
   ]
  },
  {
   "cell_type": "code",
   "execution_count": null,
   "metadata": {
    "collapsed": true
   },
   "outputs": [],
   "source": [
    "trY.shape"
   ]
  },
  {
   "cell_type": "code",
   "execution_count": null,
   "metadata": {
    "collapsed": true
   },
   "outputs": [],
   "source": [
    "y.shape"
   ]
  },
  {
   "cell_type": "code",
   "execution_count": null,
   "metadata": {
    "collapsed": true
   },
   "outputs": [],
   "source": [
    "run_cost.shape"
   ]
  },
  {
   "cell_type": "code",
   "execution_count": null,
   "metadata": {
    "collapsed": true
   },
   "outputs": [],
   "source": [
    "cost = tf.add(tf.constant(dtype=\"float\" , value = 100 ) , tf.reduce_mean(tf.square(Y - y_model)))"
   ]
  },
  {
   "cell_type": "markdown",
   "metadata": {},
   "source": [
    "## pattern 1 : obsolete"
   ]
  },
  {
   "cell_type": "code",
   "execution_count": null,
   "metadata": {
    "collapsed": true
   },
   "outputs": [],
   "source": [
    "trY = 2 * trX + np.random.randn(*trX.shape) * 0.33 # create a y value which is approximately linear but with some random noise"
   ]
  },
  {
   "cell_type": "code",
   "execution_count": null,
   "metadata": {
    "collapsed": true
   },
   "outputs": [],
   "source": [
    "trY = [z[0] + z[1] if  trZ2[i , 0] > 0 else z[0] - z[1] for i , z in enumerate(trZ)]"
   ]
  },
  {
   "cell_type": "code",
   "execution_count": null,
   "metadata": {
    "collapsed": true
   },
   "outputs": [],
   "source": [
    "def model(X, X2 , w, w2): # this network is the same as the previous one except with an extra hidden layer + dropout\n",
    "    z = tf.matmul(X , w)\n",
    "    z2 = tf.matmul(X2 , w2)\n",
    "    h = tf.nn.tanh(z2)\n",
    "    my_one = tf.constant(dtype=\"float\" , value = 1 )\n",
    "    weight = tf.subtract(my_one , h) \n",
    "    #weight2 = tf.subtract()\n",
    "    #r = tf.matmul(tf.subtract(my_one , h) , z)\n",
    "    elementwise_mul = tf.multiply(weight , z)\n",
    "\n",
    "\n",
    "    return elementwise_mul"
   ]
  },
  {
   "cell_type": "code",
   "execution_count": null,
   "metadata": {
    "collapsed": true
   },
   "outputs": [],
   "source": [
    "w = tf.Variable(tf.random_normal(shape=[Nfactor , Nregime] , stddev=0.1))"
   ]
  },
  {
   "cell_type": "code",
   "execution_count": null,
   "metadata": {
    "collapsed": true
   },
   "outputs": [],
   "source": [
    "py = model(X , X2 , w , w2)"
   ]
  }
 ],
 "metadata": {
  "kernelspec": {
   "display_name": "Python 3",
   "language": "python",
   "name": "python3"
  },
  "language_info": {
   "codemirror_mode": {
    "name": "ipython",
    "version": 3
   },
   "file_extension": ".py",
   "mimetype": "text/x-python",
   "name": "python",
   "nbconvert_exporter": "python",
   "pygments_lexer": "ipython3",
   "version": "3.6.3"
  },
  "toc": {
   "nav_menu": {},
   "number_sections": true,
   "sideBar": true,
   "skip_h1_title": false,
   "toc_cell": false,
   "toc_position": {},
   "toc_section_display": "block",
   "toc_window_display": false
  }
 },
 "nbformat": 4,
 "nbformat_minor": 2
}
